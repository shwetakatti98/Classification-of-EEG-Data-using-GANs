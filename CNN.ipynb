{
 "cells": [
  {
   "cell_type": "code",
   "execution_count": 7,
   "metadata": {
    "colab": {
     "base_uri": "https://localhost:8080/"
    },
    "id": "KK9ROSFimHDT",
    "outputId": "55c0e286-829c-4e08-d82a-e1d40d7087c2"
   },
   "outputs": [
    {
     "name": "stdout",
     "output_type": "stream",
     "text": [
      "Drive already mounted at /content/drive; to attempt to forcibly remount, call drive.mount(\"/content/drive\", force_remount=True).\n"
     ]
    }
   ],
   "source": [
    "from google.colab import drive\n",
    "drive.mount('/content/drive')"
   ]
  },
  {
   "cell_type": "code",
   "execution_count": 17,
   "metadata": {
    "id": "uMuGmZW4mP7n"
   },
   "outputs": [],
   "source": [
    "import numpy as np\n",
    "import pandas as pd\n",
    "import keras\n",
    "from keras.models import Sequential\n",
    "from keras.layers import Dense, Activation, Flatten,Dropout\n",
    "from keras.layers import Conv2D,LSTM,BatchNormalization,MaxPooling2D,Reshape\n",
    "from tensorflow.keras.utils import to_categorical\n",
    "from tensorflow.keras.layers import Permute, Bidirectional, BatchNormalization, Conv2D, Dense, Dropout, ELU, Flatten, MaxPool2D, TimeDistributed, GRU\n",
    "from tensorflow.keras.regularizers import L1L2"
   ]
  },
  {
   "cell_type": "code",
   "execution_count": 9,
   "metadata": {
    "id": "Rh1DuN1FmVqc"
   },
   "outputs": [],
   "source": [
    "def data_prep(X,y,sub_sample,average,noise):\n",
    "    \n",
    "    total_X = None\n",
    "    total_y = None\n",
    "    \n",
    "    # Trimming the data (sample,22,1000) -> (sample,22,500)\n",
    "    X = X[:,:,0:500]\n",
    "    print('Shape of X after trimming:',X.shape)\n",
    "    \n",
    "    # Maxpooling the data (sample,22,1000) -> (sample,22,500/sub_sample)\n",
    "    X_max = np.max(X.reshape(X.shape[0], X.shape[1], -1, sub_sample), axis=3)\n",
    "    \n",
    "    \n",
    "    total_X = X_max\n",
    "    total_y = y\n",
    "    print('Shape of X after maxpooling:',total_X.shape)\n",
    "    \n",
    "    # Averaging + noise \n",
    "    X_average = np.mean(X.reshape(X.shape[0], X.shape[1], -1, average),axis=3)\n",
    "    X_average = X_average + np.random.normal(0.0, 0.5, X_average.shape)\n",
    "    \n",
    "    total_X = np.vstack((total_X, X_average))\n",
    "    total_y = np.hstack((total_y, y))\n",
    "    print('Shape of X after averaging+noise and concatenating:',total_X.shape)\n",
    "    \n",
    "    # Subsampling\n",
    "    \n",
    "    for i in range(sub_sample):\n",
    "        \n",
    "        X_subsample = X[:, :, i::sub_sample] + \\\n",
    "                            (np.random.normal(0.0, 0.5, X[:, :,i::sub_sample].shape) if noise else 0.0)\n",
    "            \n",
    "        total_X = np.vstack((total_X, X_subsample))\n",
    "        total_y = np.hstack((total_y, y))\n",
    "        \n",
    "    \n",
    "    print('Shape of X after subsampling and concatenating:',total_X.shape)\n",
    "    return total_X,total_y\n",
    "\n"
   ]
  },
  {
   "cell_type": "code",
   "execution_count": 13,
   "metadata": {
    "id": "GmU-TQ28mkqh"
   },
   "outputs": [],
   "source": [
    "import numpy as np\n",
    "X_test = np.load(\"/content/drive/MyDrive/project/project_data/X_test.npy\")\n",
    "y_test = np.load(\"/content/drive/MyDrive/project/project_data/y_test.npy\")\n",
    "person_train_valid = np.load(\"/content/drive/MyDrive/project/project_data/person_train_valid.npy\")\n",
    "X_train_valid = np.load(\"/content/drive/MyDrive/project/project_data/X_train_valid.npy\")\n",
    "y_train_valid = np.load(\"/content/drive/MyDrive/project/project_data/y_train_valid.npy\")\n",
    "person_test = np.load(\"/content/drive/MyDrive/project/project_data/person_test.npy\")\n",
    "\n",
    "\n",
    "\n",
    "y_train_valid -= 769\n",
    "y_test -= 769"
   ]
  },
  {
   "cell_type": "code",
   "execution_count": 14,
   "metadata": {
    "colab": {
     "base_uri": "https://localhost:8080/"
    },
    "id": "TKF6ECUHmnz8",
    "outputId": "516e676a-5745-4f29-da4c-6a66a4aa694b"
   },
   "outputs": [
    {
     "name": "stdout",
     "output_type": "stream",
     "text": [
      "Shape of X after trimming: (2115, 22, 500)\n",
      "Shape of X after maxpooling: (2115, 22, 250)\n",
      "Shape of X after averaging+noise and concatenating: (4230, 22, 250)\n",
      "Shape of X after subsampling and concatenating: (8460, 22, 250)\n",
      "Shape of X after trimming: (443, 22, 500)\n",
      "Shape of X after maxpooling: (443, 22, 250)\n",
      "Shape of X after averaging+noise and concatenating: (886, 22, 250)\n",
      "Shape of X after subsampling and concatenating: (1772, 22, 250)\n",
      "Shape of training set: (6960, 22, 250)\n",
      "Shape of validation set: (1500, 22, 250)\n",
      "Shape of training labels: (6960,)\n",
      "Shape of validation labels: (1500,)\n",
      "Shape of training labels after categorical conversion: (6960, 4)\n",
      "Shape of validation labels after categorical conversion: (1500, 4)\n",
      "Shape of test labels after categorical conversion: (1772, 4)\n",
      "Shape of training set after adding width info: (6960, 22, 250, 1)\n",
      "Shape of validation set after adding width info: (1500, 22, 250, 1)\n",
      "Shape of test set after adding width info: (1772, 22, 250, 1)\n",
      "Shape of training set after dimension reshaping: (6960, 250, 1, 22)\n",
      "Shape of validation set after dimension reshaping: (1500, 250, 1, 22)\n",
      "Shape of test set after dimension reshaping: (1772, 250, 1, 22)\n"
     ]
    }
   ],
   "source": [
    "## Preprocessing the dataset\n",
    "\n",
    "X_train_valid_prep,y_train_valid_prep = data_prep(X_train_valid,y_train_valid,2,2,True)\n",
    "X_test_prep,y_test_prep = data_prep(X_test,y_test,2,2,True)\n",
    "\n",
    "\n",
    "\n",
    "\n",
    "## Random splitting and reshaping the data\n",
    "\n",
    "# First generating the training and validation indices using random splitting\n",
    "ind_valid = np.random.choice(8460, 1500, replace=False)\n",
    "ind_train = np.array(list(set(range(8460)).difference(set(ind_valid))))\n",
    "\n",
    "# Creating the training and validation sets using the generated indices\n",
    "(x_train, x_valid) = X_train_valid_prep[ind_train], X_train_valid_prep[ind_valid] \n",
    "(y_train, y_valid) = y_train_valid_prep[ind_train], y_train_valid_prep[ind_valid]\n",
    "print('Shape of training set:',x_train.shape)\n",
    "print('Shape of validation set:',x_valid.shape)\n",
    "print('Shape of training labels:',y_train.shape)\n",
    "print('Shape of validation labels:',y_valid.shape)\n",
    "\n",
    "\n",
    "# Converting the labels to categorical variables for multiclass classification\n",
    "y_train = to_categorical(y_train, 4)\n",
    "y_valid = to_categorical(y_valid, 4)\n",
    "y_test = to_categorical(y_test_prep, 4)\n",
    "print('Shape of training labels after categorical conversion:',y_train.shape)\n",
    "print('Shape of validation labels after categorical conversion:',y_valid.shape)\n",
    "print('Shape of test labels after categorical conversion:',y_test.shape)\n",
    "\n",
    "# Adding width of the segment to be 1\n",
    "x_train = x_train.reshape(x_train.shape[0], x_train.shape[1], x_train.shape[2], 1)\n",
    "x_valid = x_valid.reshape(x_valid.shape[0], x_valid.shape[1], x_train.shape[2], 1)\n",
    "x_test = X_test_prep.reshape(X_test_prep.shape[0], X_test_prep.shape[1], X_test_prep.shape[2], 1)\n",
    "print('Shape of training set after adding width info:',x_train.shape)\n",
    "print('Shape of validation set after adding width info:',x_valid.shape)\n",
    "print('Shape of test set after adding width info:',x_test.shape)\n",
    "\n",
    "\n",
    "# Reshaping the training and validation dataset\n",
    "x_train = np.swapaxes(x_train, 1,3)\n",
    "x_train = np.swapaxes(x_train, 1,2)\n",
    "x_valid = np.swapaxes(x_valid, 1,3)\n",
    "x_valid = np.swapaxes(x_valid, 1,2)\n",
    "x_test = np.swapaxes(x_test, 1,3)\n",
    "x_test = np.swapaxes(x_test, 1,2)\n",
    "print('Shape of training set after dimension reshaping:',x_train.shape)\n",
    "print('Shape of validation set after dimension reshaping:',x_valid.shape)\n",
    "print('Shape of test set after dimension reshaping:',x_test.shape)\n"
   ]
  },
  {
   "cell_type": "code",
   "execution_count": 26,
   "metadata": {
    "colab": {
     "base_uri": "https://localhost:8080/"
    },
    "id": "c9I81tgrnNoC",
    "outputId": "e4703f20-7d5f-440c-b1af-397a768722a2"
   },
   "outputs": [
    {
     "name": "stdout",
     "output_type": "stream",
     "text": [
      "Model: \"sequential_4\"\n",
      "_________________________________________________________________\n",
      " Layer (type)                Output Shape              Param #   \n",
      "=================================================================\n",
      " conv2d_8 (Conv2D)           (None, 250, 1, 25)        5525      \n",
      "                                                                 \n",
      " max_pooling2d_4 (MaxPooling  (None, 84, 1, 25)        0         \n",
      " 2D)                                                             \n",
      "                                                                 \n",
      " batch_normalization_8 (Batc  (None, 84, 1, 25)        100       \n",
      " hNormalization)                                                 \n",
      "                                                                 \n",
      " elu_6 (ELU)                 (None, 84, 1, 25)         0         \n",
      "                                                                 \n",
      " dropout_6 (Dropout)         (None, 84, 1, 25)         0         \n",
      "                                                                 \n",
      " conv2d_9 (Conv2D)           (None, 84, 1, 50)         12550     \n",
      "                                                                 \n",
      " batch_normalization_9 (Batc  (None, 84, 1, 50)        200       \n",
      " hNormalization)                                                 \n",
      "                                                                 \n",
      " elu_7 (ELU)                 (None, 84, 1, 50)         0         \n",
      "                                                                 \n",
      " dropout_7 (Dropout)         (None, 84, 1, 50)         0         \n",
      "                                                                 \n",
      " conv2d_10 (Conv2D)          (None, 84, 1, 100)        50100     \n",
      "                                                                 \n",
      " batch_normalization_10 (Bat  (None, 84, 1, 100)       400       \n",
      " chNormalization)                                                \n",
      "                                                                 \n",
      " elu_8 (ELU)                 (None, 84, 1, 100)        0         \n",
      "                                                                 \n",
      " dropout_8 (Dropout)         (None, 84, 1, 100)        0         \n",
      "                                                                 \n",
      " flatten_2 (Flatten)         (None, 8400)              0         \n",
      "                                                                 \n",
      " dense_4 (Dense)             (None, 100)               840100    \n",
      "                                                                 \n",
      " dense_5 (Dense)             (None, 4)                 404       \n",
      "                                                                 \n",
      "=================================================================\n",
      "Total params: 909,379\n",
      "Trainable params: 909,029\n",
      "Non-trainable params: 350\n",
      "_________________________________________________________________\n"
     ]
    }
   ],
   "source": [
    "from keras.layers.advanced_activations import LeakyReLU\n",
    "model = Sequential()\n",
    "\n",
    "# Conv. block 1\n",
    "model.add(Conv2D(filters=25, kernel_size=(10,1), padding='same', activation='elu', input_shape=(250,1,22)))\n",
    "model.add(MaxPooling2D(pool_size=(3,1), padding='same')) \n",
    "\n",
    "model.add(BatchNormalization())\n",
    "model.add(ELU())\n",
    "model.add(Dropout(0.3))\n",
    "\n",
    "# Conv. block 2\n",
    "model.add(Conv2D(filters=50, kernel_size=(10,1), padding='same', activation='elu'))\n",
    "# model.add(MaxPooling2D(pool_size=(3,1), padding='same'))\n",
    "\n",
    "model.add(BatchNormalization())\n",
    "model.add(ELU())\n",
    "model.add(Dropout(0.3))\n",
    "\n",
    "# Conv. block 3\n",
    "model.add(Conv2D(filters=100, kernel_size=(10,1), padding='same', activation='elu'))\n",
    "# model.add(MaxPooling2D(pool_size=(3,1), padding='same'))\n",
    "\n",
    "model.add(BatchNormalization())\n",
    "model.add(ELU())\n",
    "model.add(Dropout(0.3))\n",
    "\n",
    "\n",
    "model.add((Flatten())) # Adding a flattening operation \n",
    "model.add(Dense((100)))\n",
    "\n",
    "# Output layer with Softmax activation \n",
    "model.add(Dense(4, kernel_regularizer=L1L2(l1=0, l2=0.01), activation='softmax')) # Output FC layer with softmax activation\n",
    "\n",
    "\n",
    "# Printing the model summary\n",
    "model.summary()"
   ]
  },
  {
   "cell_type": "code",
   "execution_count": 27,
   "metadata": {
    "colab": {
     "base_uri": "https://localhost:8080/"
    },
    "id": "ja_llecJn-7Y",
    "outputId": "8838d7c1-6262-44c1-d03c-bea7656ec574"
   },
   "outputs": [
    {
     "name": "stdout",
     "output_type": "stream",
     "text": [
      "Epoch 1/50\n"
     ]
    },
    {
     "name": "stderr",
     "output_type": "stream",
     "text": [
      "/usr/local/lib/python3.7/dist-packages/keras/optimizer_v2/adam.py:105: UserWarning: The `lr` argument is deprecated, use `learning_rate` instead.\n",
      "  super(Adam, self).__init__(name, **kwargs)\n"
     ]
    },
    {
     "name": "stdout",
     "output_type": "stream",
     "text": [
      "109/109 [==============================] - 14s 120ms/step - loss: 3.1747 - accuracy: 0.4250 - val_loss: 1.5105 - val_accuracy: 0.5373\n",
      "Epoch 2/50\n",
      "109/109 [==============================] - 13s 117ms/step - loss: 1.3156 - accuracy: 0.5700 - val_loss: 0.7607 - val_accuracy: 0.6960\n",
      "Epoch 3/50\n",
      "109/109 [==============================] - 16s 146ms/step - loss: 0.8532 - accuracy: 0.6593 - val_loss: 0.6148 - val_accuracy: 0.7887\n",
      "Epoch 4/50\n",
      "109/109 [==============================] - 13s 118ms/step - loss: 0.7282 - accuracy: 0.7243 - val_loss: 0.5577 - val_accuracy: 0.7987\n",
      "Epoch 5/50\n",
      "109/109 [==============================] - 14s 124ms/step - loss: 0.6533 - accuracy: 0.7549 - val_loss: 0.5186 - val_accuracy: 0.8100\n",
      "Epoch 6/50\n",
      "109/109 [==============================] - 17s 153ms/step - loss: 0.6027 - accuracy: 0.7749 - val_loss: 0.4510 - val_accuracy: 0.8440\n",
      "Epoch 7/50\n",
      "109/109 [==============================] - 18s 163ms/step - loss: 0.5629 - accuracy: 0.7899 - val_loss: 0.4027 - val_accuracy: 0.8473\n",
      "Epoch 8/50\n",
      "109/109 [==============================] - 17s 159ms/step - loss: 0.5076 - accuracy: 0.8095 - val_loss: 0.3678 - val_accuracy: 0.8740\n",
      "Epoch 9/50\n",
      "109/109 [==============================] - 14s 126ms/step - loss: 0.4510 - accuracy: 0.8341 - val_loss: 0.3150 - val_accuracy: 0.8953\n",
      "Epoch 10/50\n",
      "109/109 [==============================] - 14s 129ms/step - loss: 0.4127 - accuracy: 0.8471 - val_loss: 0.2729 - val_accuracy: 0.9060\n",
      "Epoch 11/50\n",
      "109/109 [==============================] - 14s 127ms/step - loss: 0.4023 - accuracy: 0.8491 - val_loss: 0.2102 - val_accuracy: 0.9380\n",
      "Epoch 12/50\n",
      "109/109 [==============================] - 14s 127ms/step - loss: 0.3600 - accuracy: 0.8687 - val_loss: 0.2604 - val_accuracy: 0.9127\n",
      "Epoch 13/50\n",
      "109/109 [==============================] - 14s 127ms/step - loss: 0.3253 - accuracy: 0.8885 - val_loss: 0.1566 - val_accuracy: 0.9553\n",
      "Epoch 14/50\n",
      "109/109 [==============================] - 14s 128ms/step - loss: 0.3081 - accuracy: 0.8888 - val_loss: 0.1548 - val_accuracy: 0.9560\n",
      "Epoch 15/50\n",
      "109/109 [==============================] - 13s 124ms/step - loss: 0.2752 - accuracy: 0.9024 - val_loss: 0.1614 - val_accuracy: 0.9507\n",
      "Epoch 16/50\n",
      "109/109 [==============================] - 13s 121ms/step - loss: 0.2814 - accuracy: 0.8984 - val_loss: 0.1124 - val_accuracy: 0.9747\n",
      "Epoch 17/50\n",
      "109/109 [==============================] - 14s 124ms/step - loss: 0.2535 - accuracy: 0.9103 - val_loss: 0.1354 - val_accuracy: 0.9613\n",
      "Epoch 18/50\n",
      "109/109 [==============================] - 14s 124ms/step - loss: 0.2132 - accuracy: 0.9226 - val_loss: 0.1164 - val_accuracy: 0.9740\n",
      "Epoch 19/50\n",
      "109/109 [==============================] - 14s 129ms/step - loss: 0.2070 - accuracy: 0.9266 - val_loss: 0.1121 - val_accuracy: 0.9627\n",
      "Epoch 20/50\n",
      "109/109 [==============================] - 13s 122ms/step - loss: 0.1970 - accuracy: 0.9309 - val_loss: 0.0718 - val_accuracy: 0.9907\n",
      "Epoch 21/50\n",
      "109/109 [==============================] - 13s 121ms/step - loss: 0.1826 - accuracy: 0.9356 - val_loss: 0.1040 - val_accuracy: 0.9693\n",
      "Epoch 22/50\n",
      "109/109 [==============================] - 13s 120ms/step - loss: 0.1792 - accuracy: 0.9358 - val_loss: 0.0651 - val_accuracy: 0.9853\n",
      "Epoch 23/50\n",
      "109/109 [==============================] - 13s 121ms/step - loss: 0.1783 - accuracy: 0.9346 - val_loss: 0.0636 - val_accuracy: 0.9847\n",
      "Epoch 24/50\n",
      "109/109 [==============================] - 13s 119ms/step - loss: 0.1637 - accuracy: 0.9460 - val_loss: 0.0646 - val_accuracy: 0.9820\n",
      "Epoch 25/50\n",
      "109/109 [==============================] - 13s 120ms/step - loss: 0.1556 - accuracy: 0.9435 - val_loss: 0.0594 - val_accuracy: 0.9893\n",
      "Epoch 26/50\n",
      "109/109 [==============================] - 13s 119ms/step - loss: 0.1445 - accuracy: 0.9503 - val_loss: 0.0700 - val_accuracy: 0.9827\n",
      "Epoch 27/50\n",
      "109/109 [==============================] - 13s 122ms/step - loss: 0.1411 - accuracy: 0.9489 - val_loss: 0.0712 - val_accuracy: 0.9827\n",
      "Epoch 28/50\n",
      "109/109 [==============================] - 13s 120ms/step - loss: 0.1426 - accuracy: 0.9517 - val_loss: 0.0458 - val_accuracy: 0.9907\n",
      "Epoch 29/50\n",
      "109/109 [==============================] - 13s 121ms/step - loss: 0.1243 - accuracy: 0.9585 - val_loss: 0.0490 - val_accuracy: 0.9940\n",
      "Epoch 30/50\n",
      "109/109 [==============================] - 13s 119ms/step - loss: 0.1232 - accuracy: 0.9557 - val_loss: 0.0451 - val_accuracy: 0.9913\n",
      "Epoch 31/50\n",
      "109/109 [==============================] - 13s 120ms/step - loss: 0.1048 - accuracy: 0.9614 - val_loss: 0.0922 - val_accuracy: 0.9747\n",
      "Epoch 32/50\n",
      "109/109 [==============================] - 13s 120ms/step - loss: 0.1353 - accuracy: 0.9532 - val_loss: 0.0490 - val_accuracy: 0.9927\n",
      "Epoch 33/50\n",
      "109/109 [==============================] - 13s 121ms/step - loss: 0.1154 - accuracy: 0.9599 - val_loss: 0.0556 - val_accuracy: 0.9867\n",
      "Epoch 34/50\n",
      "109/109 [==============================] - 13s 122ms/step - loss: 0.1193 - accuracy: 0.9579 - val_loss: 0.0413 - val_accuracy: 0.9933\n",
      "Epoch 35/50\n",
      "109/109 [==============================] - 13s 120ms/step - loss: 0.1104 - accuracy: 0.9615 - val_loss: 0.0372 - val_accuracy: 0.9900\n",
      "Epoch 36/50\n",
      "109/109 [==============================] - 13s 121ms/step - loss: 0.1071 - accuracy: 0.9654 - val_loss: 0.0700 - val_accuracy: 0.9887\n",
      "Epoch 37/50\n",
      "109/109 [==============================] - 13s 119ms/step - loss: 0.1017 - accuracy: 0.9645 - val_loss: 0.0415 - val_accuracy: 0.9940\n",
      "Epoch 38/50\n",
      "109/109 [==============================] - 13s 120ms/step - loss: 0.0987 - accuracy: 0.9668 - val_loss: 0.0358 - val_accuracy: 0.9920\n",
      "Epoch 39/50\n",
      "109/109 [==============================] - 13s 120ms/step - loss: 0.0883 - accuracy: 0.9718 - val_loss: 0.0513 - val_accuracy: 0.9907\n",
      "Epoch 40/50\n",
      "109/109 [==============================] - 13s 119ms/step - loss: 0.0843 - accuracy: 0.9731 - val_loss: 0.0555 - val_accuracy: 0.9900\n",
      "Epoch 41/50\n",
      "109/109 [==============================] - 13s 118ms/step - loss: 0.0831 - accuracy: 0.9718 - val_loss: 0.0386 - val_accuracy: 0.9927\n",
      "Epoch 42/50\n",
      "109/109 [==============================] - 13s 119ms/step - loss: 0.0889 - accuracy: 0.9678 - val_loss: 0.0452 - val_accuracy: 0.9927\n",
      "Epoch 43/50\n",
      "109/109 [==============================] - 13s 120ms/step - loss: 0.0930 - accuracy: 0.9672 - val_loss: 0.0514 - val_accuracy: 0.9940\n",
      "Epoch 44/50\n",
      "109/109 [==============================] - 13s 121ms/step - loss: 0.0901 - accuracy: 0.9688 - val_loss: 0.0527 - val_accuracy: 0.9887\n",
      "Epoch 45/50\n",
      "109/109 [==============================] - 13s 121ms/step - loss: 0.0816 - accuracy: 0.9739 - val_loss: 0.0556 - val_accuracy: 0.9867\n",
      "Epoch 46/50\n",
      "109/109 [==============================] - 13s 120ms/step - loss: 0.0724 - accuracy: 0.9739 - val_loss: 0.0358 - val_accuracy: 0.9960\n",
      "Epoch 47/50\n",
      "109/109 [==============================] - 13s 121ms/step - loss: 0.0771 - accuracy: 0.9707 - val_loss: 0.0413 - val_accuracy: 0.9933\n",
      "Epoch 48/50\n",
      "109/109 [==============================] - 13s 119ms/step - loss: 0.0795 - accuracy: 0.9727 - val_loss: 0.0317 - val_accuracy: 0.9960\n",
      "Epoch 49/50\n",
      "109/109 [==============================] - 13s 119ms/step - loss: 0.0752 - accuracy: 0.9741 - val_loss: 0.0478 - val_accuracy: 0.9933\n",
      "Epoch 50/50\n",
      "109/109 [==============================] - 13s 123ms/step - loss: 0.0768 - accuracy: 0.9747 - val_loss: 0.0456 - val_accuracy: 0.9947\n"
     ]
    }
   ],
   "source": [
    "from keras.layers import Dense, Activation, Flatten,Dropout\n",
    "from tensorflow.keras.optimizers import Adam\n",
    "# Model parameters\n",
    "learning_rate = 1e-3\n",
    "epochs = 50\n",
    "opt = Adam(lr=learning_rate)\n",
    "\n",
    "# Compiling the model\n",
    "model.compile(loss='categorical_crossentropy',\n",
    "                 optimizer=opt,\n",
    "                 metrics=['accuracy'])\n",
    "\n",
    "# Training and validating the model\n",
    "hybrid_cnn_lstm_model_results = model.fit(x_train,\n",
    "             y_train,\n",
    "             batch_size=64,\n",
    "             epochs=epochs,\n",
    "             validation_data=(x_valid, y_valid), verbose=True)"
   ]
  },
  {
   "cell_type": "code",
   "execution_count": 30,
   "metadata": {
    "colab": {
     "base_uri": "https://localhost:8080/",
     "height": 573
    },
    "id": "t4mCw4QFoS4n",
    "outputId": "6c4b389b-f3b5-47c7-e00c-ee8535b59dbe"
   },
   "outputs": [
    {
     "data": {
      "image/png": "[encoded data removed]",
      "text/plain": [
       "<Figure size 432x288 with 1 Axes>"
      ]
     },
     "metadata": {
      "needs_background": "light"
     },
     "output_type": "display_data"
    },
    {
     "data": {
      "image/png": "[encoded data removed]",
      "text/plain": [
       "<Figure size 432x288 with 1 Axes>"
      ]
     },
     "metadata": {
      "needs_background": "light"
     },
     "output_type": "display_data"
    }
   ],
   "source": [
    "import matplotlib.pyplot as plt\n",
    "\n",
    "# Plotting accuracy trajectory\n",
    "plt.plot(hybrid_cnn_lstm_model_results.history['accuracy'])\n",
    "plt.plot(hybrid_cnn_lstm_model_results.history['val_accuracy'])\n",
    "plt.title('Hybrid CNN model accuracy trajectory')\n",
    "plt.ylabel('accuracy')\n",
    "plt.xlabel('epoch')\n",
    "plt.legend(['train', 'val'], loc='upper left')\n",
    "plt.show()\n",
    "\n",
    "# Plotting loss trajectory\n",
    "plt.plot(hybrid_cnn_lstm_model_results.history['loss'],'o')\n",
    "plt.plot(hybrid_cnn_lstm_model_results.history['val_loss'],'o')\n",
    "plt.title('Hybrid CNN model loss trajectory')\n",
    "plt.ylabel('loss')\n",
    "plt.xlabel('epoch')\n",
    "plt.legend(['train', 'val'], loc='upper left')\n",
    "plt.show()"
   ]
  },
  {
   "cell_type": "code",
   "execution_count": 29,
   "metadata": {
    "colab": {
     "base_uri": "https://localhost:8080/"
    },
    "id": "2rnowbjIpPJQ",
    "outputId": "4e7f97f2-4c34-4816-ac65-44be9161cc58"
   },
   "outputs": [
    {
     "name": "stdout",
     "output_type": "stream",
     "text": [
      "Test accuracy of the hybrid CNN-LSTM model: 0.6563205122947693\n"
     ]
    }
   ],
   "source": [
    "## Testing the hybrid CNN-LSTM model\n",
    "\n",
    "hybrid_cnn_lstm_score = model.evaluate(x_test, y_test, verbose=0)\n",
    "print('Test accuracy of the hybrid CNN-LSTM model:',hybrid_cnn_lstm_score[1])"
   ]
  },
  {
   "cell_type": "code",
   "execution_count": null,
   "metadata": {
    "id": "czeu3Hu1sMAN"
   },
   "outputs": [],
   "source": []
  }
 ],
 "metadata": {
  "colab": {
   "name": "CNN.ipynb",
   "provenance": []
  },
  "kernelspec": {
   "display_name": "Python 3",
   "language": "python",
   "name": "python3"
  },
  "language_info": {
   "codemirror_mode": {
    "name": "ipython",
    "version": 3
   },
   "file_extension": ".py",
   "mimetype": "text/x-python",
   "name": "python",
   "nbconvert_exporter": "python",
   "pygments_lexer": "ipython3",
   "version": "3.8.8"
  }
 },
 "nbformat": 4,
 "nbformat_minor": 1
}
